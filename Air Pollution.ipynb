{
 "cells": [
  {
   "cell_type": "markdown",
   "metadata": {},
   "source": [
    "#  Air Pollution Analysis of India (Tableau)\n",
    "# ---------------------------------------------------------"
   ]
  },
  {
   "cell_type": "markdown",
   "metadata": {},
   "source": [
    "## Interactive workbook, you can switch among years to see how values change among the worksheets "
   ]
  },
  {
   "cell_type": "markdown",
   "metadata": {},
   "source": [
    "### In this analysis project we are analysing different levels of So2, No2, Rspm, Spm in the atmosphere in the states as well as in the cities of India. We will start with looking at each worksheet seperately."
   ]
  },
  {
   "cell_type": "markdown",
   "metadata": {},
   "source": [
    "### RSPM is that fraction of TSPM which is readily inhaled by humans through their respiratory system and in general, considered as particulate matter with their diameter (aerodynamic) less than 2.5 micrometers. Larger particles would be filtered in the nasal duct.\n",
    "\n",
    "### Suspended Particulate Matter (SPM) are microscopic solid or liquid matter suspended in Earth's atmosphere. The term aerosol commonly refers to the particulate/air mixture, as opposed to the particulate matter alone. Sources of particulate matter can be natural or anthropogenic. They have impacts on climate and precipitation that adversely affect human health."
   ]
  },
  {
   "cell_type": "code",
   "execution_count": 1,
   "metadata": {},
   "outputs": [],
   "source": [
    "from IPython.display import IFrame"
   ]
  },
  {
   "cell_type": "markdown",
   "metadata": {},
   "source": [
    "## Worksheet - 1 \n",
    "\n"
   ]
  },
  {
   "cell_type": "code",
   "execution_count": 2,
   "metadata": {},
   "outputs": [
    {
     "data": {
      "text/html": [
       "\n",
       "        <iframe\n",
       "            width=\"1020\"\n",
       "            height=\"964\"\n",
       "            src=\"https://public.tableau.com/views/AirPollutionAnalysis_15595577758990/StatewiseNo2So2RspmSpm?:embed=y&:display_count=yes&:origin=viz_share_link:showVizHome=no&:embed=true\"\n",
       "            frameborder=\"0\"\n",
       "            allowfullscreen\n",
       "        ></iframe>\n",
       "        "
      ],
      "text/plain": [
       "<IPython.lib.display.IFrame at 0x24f473a90f0>"
      ]
     },
     "execution_count": 2,
     "metadata": {},
     "output_type": "execute_result"
    }
   ],
   "source": [
    "IFrame(\"https://public.tableau.com/views/AirPollutionAnalysis_15595577758990/StatewiseNo2So2RspmSpm?:embed=y&:display_count=yes&:origin=viz_share_link:showVizHome=no&:embed=true\", width=1020, height=964)"
   ]
  },
  {
   "cell_type": "markdown",
   "metadata": {},
   "source": [
    "### The above worksheet shows the average rate of No2, So2, Rspm, Spm in different states of India with the respective years from 1987 - 2015\n",
    "### --------------------------------------------------------------------------------------------------------------------------------------------------------\n",
    "### You can see for any year by changing the year through the given slider"
   ]
  },
  {
   "cell_type": "markdown",
   "metadata": {},
   "source": [
    "##  Worksheet - 2"
   ]
  },
  {
   "cell_type": "code",
   "execution_count": 3,
   "metadata": {},
   "outputs": [
    {
     "data": {
      "text/html": [
       "\n",
       "        <iframe\n",
       "            width=\"1020\"\n",
       "            height=\"964\"\n",
       "            src=\"https://public.tableau.com/views/AirPollutionAnalysis_15595577758990/Abgrspmacarea?:embed=y&:display_count=yes&:origin=viz_share_link:showVizHome=no&:embed=true\"\n",
       "            frameborder=\"0\"\n",
       "            allowfullscreen\n",
       "        ></iframe>\n",
       "        "
      ],
      "text/plain": [
       "<IPython.lib.display.IFrame at 0x24f473a90b8>"
      ]
     },
     "execution_count": 3,
     "metadata": {},
     "output_type": "execute_result"
    }
   ],
   "source": [
    "IFrame(\"https://public.tableau.com/views/AirPollutionAnalysis_15595577758990/Abgrspmacarea?:embed=y&:display_count=yes&:origin=viz_share_link:showVizHome=no&:embed=true\", width=1020, height=964)"
   ]
  },
  {
   "cell_type": "markdown",
   "metadata": {},
   "source": [
    "### The above worksheet shows the Average Rspm with the area distribution for each city and state of India\n",
    "### -----------------------------------------------------------------------------------------------------------------------------------------------------\n",
    "### You can see for any year by changing the year through the given slider"
   ]
  },
  {
   "cell_type": "markdown",
   "metadata": {},
   "source": [
    "## Worksheet - 3"
   ]
  },
  {
   "cell_type": "code",
   "execution_count": 4,
   "metadata": {},
   "outputs": [
    {
     "data": {
      "text/html": [
       "\n",
       "        <iframe\n",
       "            width=\"1020\"\n",
       "            height=\"964\"\n",
       "            src=\"https://public.tableau.com/views/AirPollutionAnalysis_15595577758990/sumofspmincityactoarea?:embed=y&:display_count=yes&:origin=viz_share_link:showVizHome=no&:embed=true\"\n",
       "            frameborder=\"0\"\n",
       "            allowfullscreen\n",
       "        ></iframe>\n",
       "        "
      ],
      "text/plain": [
       "<IPython.lib.display.IFrame at 0x24f473a9128>"
      ]
     },
     "execution_count": 4,
     "metadata": {},
     "output_type": "execute_result"
    }
   ],
   "source": [
    "IFrame(\"https://public.tableau.com/views/AirPollutionAnalysis_15595577758990/sumofspmincityactoarea?:embed=y&:display_count=yes&:origin=viz_share_link:showVizHome=no&:embed=true\", width=1020, height=964)"
   ]
  },
  {
   "cell_type": "markdown",
   "metadata": {},
   "source": [
    "### The above worksheet shows the sum of SPM in the city in the state according to the types of area which can help see how much the air popultion is affecting either residential areas and the impact of Industrial areas\n",
    "### ---------------------------------------------------------------------------------------------------------------------------------------------------------------\n",
    "### You can see for any year by changing the year through the given slider"
   ]
  },
  {
   "cell_type": "markdown",
   "metadata": {},
   "source": [
    "## Worksheet - 4"
   ]
  },
  {
   "cell_type": "code",
   "execution_count": 5,
   "metadata": {},
   "outputs": [
    {
     "data": {
      "text/html": [
       "\n",
       "        <iframe\n",
       "            width=\"1020\"\n",
       "            height=\"964\"\n",
       "            src=\"https://public.tableau.com/views/AirPollutionAnalysis_15595577758990/TotalNo2So2?:embed=y&:display_count=yes&:origin=viz_share_link:showVizHome=no&:embed=true\"\n",
       "            frameborder=\"0\"\n",
       "            allowfullscreen\n",
       "        ></iframe>\n",
       "        "
      ],
      "text/plain": [
       "<IPython.lib.display.IFrame at 0x24f473a9080>"
      ]
     },
     "execution_count": 5,
     "metadata": {},
     "output_type": "execute_result"
    }
   ],
   "source": [
    "IFrame(\"https://public.tableau.com/views/AirPollutionAnalysis_15595577758990/TotalNo2So2?:embed=y&:display_count=yes&:origin=viz_share_link:showVizHome=no&:embed=true\", width=1020, height=964)"
   ]
  },
  {
   "cell_type": "markdown",
   "metadata": {},
   "source": [
    "### The above worksheet shows the total impact of So2 and No2 on the City as well as the States till 2015,\n",
    "### we see that Nanded city of Maharashtra had the highest level of No2 an So2 i.e. 97.68 and,\n",
    "### Fariabad city of Haryana has 88. 15 in 2015 \n",
    "### While in 2006, Jharkhand anf Uttar Pradesh had more level of So2 and No2\n",
    "### ---------------------------------------------------------------------------------------------------------------------------------------------------\n",
    "### You can see for any year by changing the year through the given slider"
   ]
  },
  {
   "cell_type": "markdown",
   "metadata": {},
   "source": [
    "## Worksheet - 5"
   ]
  },
  {
   "cell_type": "code",
   "execution_count": 6,
   "metadata": {},
   "outputs": [
    {
     "data": {
      "text/html": [
       "\n",
       "        <iframe\n",
       "            width=\"1020\"\n",
       "            height=\"964\"\n",
       "            src=\"https://public.tableau.com/views/AirPollutionAnalysis_15595577758990/Area-State-RspmSpm?:retry=yes&:embed=y&:display_count=yes&:origin=viz_share_link:showVizHome=no&:embed=true\"\n",
       "            frameborder=\"0\"\n",
       "            allowfullscreen\n",
       "        ></iframe>\n",
       "        "
      ],
      "text/plain": [
       "<IPython.lib.display.IFrame at 0x24f473a9048>"
      ]
     },
     "execution_count": 6,
     "metadata": {},
     "output_type": "execute_result"
    }
   ],
   "source": [
    "IFrame(\"https://public.tableau.com/views/AirPollutionAnalysis_15595577758990/Area-State-RspmSpm?:retry=yes&:embed=y&:display_count=yes&:origin=viz_share_link:showVizHome=no&:embed=true\", width=1020, height=964)"
   ]
  },
  {
   "cell_type": "markdown",
   "metadata": {},
   "source": [
    "### Above worksheet shows the total of Rsmp and Smp level in air of states with the respective areas. And we see that in 2015 Uttar Pradesh ha most level with the Sensitive area with 396.5, Residual Area with 397,6, and Industrial area with 408.9, while Mizoram had leasr Residental area 260.7 \n",
    "### --------------------------------------------------------------------------------------------------------------------------------------------------------------\n",
    "### You can see for any year by changing the year through the given slider"
   ]
  },
  {
   "cell_type": "markdown",
   "metadata": {},
   "source": [
    "## Worksheet - 6"
   ]
  },
  {
   "cell_type": "code",
   "execution_count": 7,
   "metadata": {},
   "outputs": [
    {
     "data": {
      "text/html": [
       "\n",
       "        <iframe\n",
       "            width=\"1020\"\n",
       "            height=\"964\"\n",
       "            src=\"https://public.tableau.com/shared/SX8G7GHHT?:display_count=yes&:origin=viz_share_link:showVizHome=no&:embed=true\"\n",
       "            frameborder=\"0\"\n",
       "            allowfullscreen\n",
       "        ></iframe>\n",
       "        "
      ],
      "text/plain": [
       "<IPython.lib.display.IFrame at 0x24f473a96a0>"
      ]
     },
     "execution_count": 7,
     "metadata": {},
     "output_type": "execute_result"
    }
   ],
   "source": [
    "IFrame(\"https://public.tableau.com/shared/SX8G7GHHT?:display_count=yes&:origin=viz_share_link:showVizHome=no&:embed=true\", width=1020, height=964)"
   ]
  },
  {
   "cell_type": "markdown",
   "metadata": {},
   "source": [
    "### Above worksheet shows the So2 and No2 in state and we can see that\n",
    "### States Jharkhand, Uttrakhand and Dadra and Nagar Haveli had highest rate of So2 in 2015\n",
    "### States Hariyana, Delhi and West Bengal had highest level of No2 in 2015\n",
    "### -------------------------------------------------------------------------------------------------------------------------------------\n",
    "### You can see for any year by changing the year through the given slider"
   ]
  },
  {
   "cell_type": "markdown",
   "metadata": {},
   "source": [
    "## Worksheet - 7"
   ]
  },
  {
   "cell_type": "code",
   "execution_count": 8,
   "metadata": {},
   "outputs": [
    {
     "data": {
      "text/html": [
       "\n",
       "        <iframe\n",
       "            width=\"1020\"\n",
       "            height=\"964\"\n",
       "            src=\"https://public.tableau.com/shared/JQHY8MCTN?:display_count=yes&:origin=viz_share_link:showVizHome=no&:embed=true\"\n",
       "            frameborder=\"0\"\n",
       "            allowfullscreen\n",
       "        ></iframe>\n",
       "        "
      ],
      "text/plain": [
       "<IPython.lib.display.IFrame at 0x24f473a97f0>"
      ]
     },
     "execution_count": 8,
     "metadata": {},
     "output_type": "execute_result"
    }
   ],
   "source": [
    "IFrame(\"https://public.tableau.com/shared/JQHY8MCTN?:display_count=yes&:origin=viz_share_link:showVizHome=no&:embed=true\", width=1020, height=964)"
   ]
  },
  {
   "cell_type": "markdown",
   "metadata": {},
   "source": [
    "### This worksheet depicts the So2 and No2 level in the city\n",
    "### We see from the above worksheet that Nanded, Saraikela Kharsawan and Jamshedpur had most So2 in 2015\n",
    "### And Faridabad, Delhi and Barrackpore had the highest No2 level in 2015\n",
    "### ------------------------------------------------------------------------------------------------------------------------------------------------------------\n",
    "### You can see for any year by changing the year through the given slider"
   ]
  },
  {
   "cell_type": "markdown",
   "metadata": {},
   "source": [
    "## Worksheet - 8 (Final)"
   ]
  },
  {
   "cell_type": "code",
   "execution_count": 9,
   "metadata": {
    "scrolled": false
   },
   "outputs": [
    {
     "data": {
      "text/html": [
       "\n",
       "        <iframe\n",
       "            width=\"1020\"\n",
       "            height=\"964\"\n",
       "            src=\"https://public.tableau.com/shared/NXN8JS5TS?:display_count=yes&:origin=viz_share_link:showVizHome=no&:embed=true\"\n",
       "            frameborder=\"0\"\n",
       "            allowfullscreen\n",
       "        ></iframe>\n",
       "        "
      ],
      "text/plain": [
       "<IPython.lib.display.IFrame at 0x24f473a9588>"
      ]
     },
     "execution_count": 9,
     "metadata": {},
     "output_type": "execute_result"
    }
   ],
   "source": [
    "from IPython.display import IFrame\n",
    "IFrame(\"https://public.tableau.com/shared/NXN8JS5TS?:display_count=yes&:origin=viz_share_link:showVizHome=no&:embed=true\", width=1020, height=964)"
   ]
  },
  {
   "cell_type": "markdown",
   "metadata": {},
   "source": [
    "## This is the final worksheet to preview evrything in coordination, you can hover over and change the year to view the diiferent levels of air pollution in different city, state and according to the area of residential or industrial"
   ]
  }
 ],
 "metadata": {
  "kernelspec": {
   "display_name": "Python 3",
   "language": "python",
   "name": "python3"
  },
  "language_info": {
   "codemirror_mode": {
    "name": "ipython",
    "version": 3
   },
   "file_extension": ".py",
   "mimetype": "text/x-python",
   "name": "python",
   "nbconvert_exporter": "python",
   "pygments_lexer": "ipython3",
   "version": "3.6.5"
  }
 },
 "nbformat": 4,
 "nbformat_minor": 2
}
